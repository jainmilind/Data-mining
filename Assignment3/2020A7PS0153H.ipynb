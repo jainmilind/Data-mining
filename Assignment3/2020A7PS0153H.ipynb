{
 "cells": [
  {
   "cell_type": "code",
   "execution_count": 314,
   "metadata": {},
   "outputs": [],
   "source": [
    "import pandas as pd\n",
    "import math"
   ]
  },
  {
   "cell_type": "code",
   "execution_count": 315,
   "metadata": {},
   "outputs": [
    {
     "data": {
      "text/html": [
       "<div>\n",
       "<style scoped>\n",
       "    .dataframe tbody tr th:only-of-type {\n",
       "        vertical-align: middle;\n",
       "    }\n",
       "\n",
       "    .dataframe tbody tr th {\n",
       "        vertical-align: top;\n",
       "    }\n",
       "\n",
       "    .dataframe thead th {\n",
       "        text-align: right;\n",
       "    }\n",
       "</style>\n",
       "<table border=\"1\" class=\"dataframe\">\n",
       "  <thead>\n",
       "    <tr style=\"text-align: right;\">\n",
       "      <th></th>\n",
       "      <th>buying</th>\n",
       "      <th>maint</th>\n",
       "      <th>doors</th>\n",
       "      <th>persons</th>\n",
       "      <th>lug_boot</th>\n",
       "      <th>safety</th>\n",
       "      <th>clazz</th>\n",
       "    </tr>\n",
       "  </thead>\n",
       "  <tbody>\n",
       "    <tr>\n",
       "      <th>0</th>\n",
       "      <td>vhigh</td>\n",
       "      <td>vhigh</td>\n",
       "      <td>2</td>\n",
       "      <td>2</td>\n",
       "      <td>small</td>\n",
       "      <td>low</td>\n",
       "      <td>unacc</td>\n",
       "    </tr>\n",
       "    <tr>\n",
       "      <th>1</th>\n",
       "      <td>vhigh</td>\n",
       "      <td>vhigh</td>\n",
       "      <td>2</td>\n",
       "      <td>2</td>\n",
       "      <td>small</td>\n",
       "      <td>med</td>\n",
       "      <td>unacc</td>\n",
       "    </tr>\n",
       "    <tr>\n",
       "      <th>2</th>\n",
       "      <td>vhigh</td>\n",
       "      <td>vhigh</td>\n",
       "      <td>2</td>\n",
       "      <td>2</td>\n",
       "      <td>small</td>\n",
       "      <td>high</td>\n",
       "      <td>unacc</td>\n",
       "    </tr>\n",
       "    <tr>\n",
       "      <th>3</th>\n",
       "      <td>vhigh</td>\n",
       "      <td>vhigh</td>\n",
       "      <td>2</td>\n",
       "      <td>2</td>\n",
       "      <td>med</td>\n",
       "      <td>low</td>\n",
       "      <td>unacc</td>\n",
       "    </tr>\n",
       "    <tr>\n",
       "      <th>4</th>\n",
       "      <td>vhigh</td>\n",
       "      <td>vhigh</td>\n",
       "      <td>2</td>\n",
       "      <td>2</td>\n",
       "      <td>med</td>\n",
       "      <td>med</td>\n",
       "      <td>unacc</td>\n",
       "    </tr>\n",
       "  </tbody>\n",
       "</table>\n",
       "</div>"
      ],
      "text/plain": [
       "  buying  maint doors persons lug_boot safety  clazz\n",
       "0  vhigh  vhigh     2       2    small    low  unacc\n",
       "1  vhigh  vhigh     2       2    small    med  unacc\n",
       "2  vhigh  vhigh     2       2    small   high  unacc\n",
       "3  vhigh  vhigh     2       2      med    low  unacc\n",
       "4  vhigh  vhigh     2       2      med    med  unacc"
      ]
     },
     "execution_count": 315,
     "metadata": {},
     "output_type": "execute_result"
    }
   ],
   "source": [
    "data = pd.read_csv('cars.csv')\n",
    "data.head()"
   ]
  },
  {
   "cell_type": "code",
   "execution_count": 316,
   "metadata": {},
   "outputs": [],
   "source": [
    "from sklearn.model_selection import train_test_split\n",
    "train, test = train_test_split(data, test_size=0.2)"
   ]
  },
  {
   "cell_type": "code",
   "execution_count": 317,
   "metadata": {},
   "outputs": [],
   "source": [
    "classes = list(data['clazz'].unique())\n",
    "features = list(data.keys())[:6]"
   ]
  },
  {
   "cell_type": "code",
   "execution_count": 318,
   "metadata": {},
   "outputs": [],
   "source": [
    "def create_table(data):\n",
    "    table = {}\n",
    "\n",
    "    value_counts = data['clazz'].value_counts()\n",
    "    table['class_names'] = list(value_counts.index)\n",
    "    table['class_counts'] = list(value_counts.values)\n",
    "\n",
    "    for feature in features:\n",
    "        table[feature] = {}\n",
    "\n",
    "        counts = data.groupby('clazz')[feature].value_counts()\n",
    "        data_counts = counts.unstack('clazz')\n",
    "\n",
    "        # correction factor\n",
    "\n",
    "        # if data_counts.isna().any(axis=None):\n",
    "        #     data_counts.fillna(value=0, inplace=True)\n",
    "        #     data_counts += 1\n",
    "        \n",
    "        data_probabilities = data_counts / data_counts.sum()\n",
    "\n",
    "        for value in data_probabilities.index:\n",
    "            probabilities = data_probabilities.loc[value]\n",
    "            probs = {}\n",
    "            for i in classes:\n",
    "                probs[i] = 0\n",
    "            for i in classes:\n",
    "                if not math.isnan(probabilities[i]):\n",
    "                    probs[i] = probabilities[i]\n",
    "            table[feature][value] = probs\n",
    "            \n",
    "    return table  "
   ]
  },
  {
   "cell_type": "code",
   "execution_count": 319,
   "metadata": {},
   "outputs": [],
   "source": [
    "table = create_table(train)"
   ]
  },
  {
   "cell_type": "code",
   "execution_count": 320,
   "metadata": {},
   "outputs": [],
   "source": [
    "def make_prediction(row, table):\n",
    "    class_estimates = dict()\n",
    "    for i in range(len(classes)):\n",
    "        class_estimates[table['class_names'][i]] = table['class_counts'][i]\n",
    "    for feature in features:\n",
    "        value = row[feature]\n",
    "        probabilities = table[feature][value]\n",
    "        for i in classes:\n",
    "            class_estimates[i] *= probabilities[i]\n",
    "    max_value = 0\n",
    "    prediction = \"\"\n",
    "    for i in class_estimates.keys():\n",
    "        if max_value < class_estimates[i]:\n",
    "            max_value = class_estimates[i]\n",
    "            prediction = i\n",
    "    return prediction"
   ]
  },
  {
   "cell_type": "code",
   "execution_count": 321,
   "metadata": {},
   "outputs": [
    {
     "name": "stdout",
     "output_type": "stream",
     "text": [
      "Accuracy is  0.8641618497109826\n"
     ]
    }
   ],
   "source": [
    "correct = 0\n",
    "for i in range(len(test)):\n",
    "    current_row = test.iloc[i]\n",
    "    prediction = make_prediction(current_row, table)\n",
    "    if current_row['clazz'] == prediction:\n",
    "        correct += 1\n",
    "print(\"Accuracy is \", correct / len(test))"
   ]
  },
  {
   "cell_type": "code",
   "execution_count": null,
   "metadata": {},
   "outputs": [],
   "source": []
  }
 ],
 "metadata": {
  "interpreter": {
   "hash": "30560e44e842259ba0e1c91cdb8e2a892324902d4554916e6f029bc91cb8a972"
  },
  "kernelspec": {
   "display_name": "Python 3.8.8 ('base')",
   "language": "python",
   "name": "python3"
  },
  "language_info": {
   "codemirror_mode": {
    "name": "ipython",
    "version": 3
   },
   "file_extension": ".py",
   "mimetype": "text/x-python",
   "name": "python",
   "nbconvert_exporter": "python",
   "pygments_lexer": "ipython3",
   "version": "3.8.8"
  },
  "orig_nbformat": 4
 },
 "nbformat": 4,
 "nbformat_minor": 2
}
